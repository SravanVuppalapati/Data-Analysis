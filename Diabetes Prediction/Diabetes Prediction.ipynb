{
  "nbformat": 4,
  "nbformat_minor": 0,
  "metadata": {
    "colab": {
      "name": "qi57017_assign_6.ipynb",
      "provenance": [],
      "collapsed_sections": []
    },
    "kernelspec": {
      "name": "python3",
      "display_name": "Python 3"
    },
    "language_info": {
      "name": "python"
    }
  },
  "cells": [
    {
      "cell_type": "code",
      "metadata": {
        "colab": {
          "base_uri": "https://localhost:8080/",
          "height": 416
        },
        "id": "0uZ1iAyj9S-I",
        "outputId": "86c2c6c5-b3c7-486b-af42-fffd2e4c495b"
      },
      "source": [
        "import pandas as pd\n",
        "import numpy as np\n",
        "import matplotlib.pyplot as plt\n",
        "%matplotlib inline\n",
        "import seaborn as sns\n",
        "df = pd.read_csv('/content/pima_indian_data.csv')\n",
        "df"
      ],
      "execution_count": 1,
      "outputs": [
        {
          "output_type": "execute_result",
          "data": {
            "text/html": [
              "<div>\n",
              "<style scoped>\n",
              "    .dataframe tbody tr th:only-of-type {\n",
              "        vertical-align: middle;\n",
              "    }\n",
              "\n",
              "    .dataframe tbody tr th {\n",
              "        vertical-align: top;\n",
              "    }\n",
              "\n",
              "    .dataframe thead th {\n",
              "        text-align: right;\n",
              "    }\n",
              "</style>\n",
              "<table border=\"1\" class=\"dataframe\">\n",
              "  <thead>\n",
              "    <tr style=\"text-align: right;\">\n",
              "      <th></th>\n",
              "      <th>Number  of times pregnant</th>\n",
              "      <th>Plasma glucose</th>\n",
              "      <th>Diastolic blood pressure</th>\n",
              "      <th>Triceps skinfold thickness</th>\n",
              "      <th>serum insulin</th>\n",
              "      <th>Body mass index</th>\n",
              "      <th>Diabetes pedigree function</th>\n",
              "      <th>Age</th>\n",
              "      <th>Class</th>\n",
              "    </tr>\n",
              "  </thead>\n",
              "  <tbody>\n",
              "    <tr>\n",
              "      <th>0</th>\n",
              "      <td>6</td>\n",
              "      <td>148</td>\n",
              "      <td>72</td>\n",
              "      <td>35</td>\n",
              "      <td>0</td>\n",
              "      <td>33.6</td>\n",
              "      <td>0.627</td>\n",
              "      <td>50</td>\n",
              "      <td>1</td>\n",
              "    </tr>\n",
              "    <tr>\n",
              "      <th>1</th>\n",
              "      <td>1</td>\n",
              "      <td>85</td>\n",
              "      <td>66</td>\n",
              "      <td>29</td>\n",
              "      <td>0</td>\n",
              "      <td>26.6</td>\n",
              "      <td>0.351</td>\n",
              "      <td>31</td>\n",
              "      <td>0</td>\n",
              "    </tr>\n",
              "    <tr>\n",
              "      <th>2</th>\n",
              "      <td>8</td>\n",
              "      <td>183</td>\n",
              "      <td>64</td>\n",
              "      <td>0</td>\n",
              "      <td>0</td>\n",
              "      <td>23.3</td>\n",
              "      <td>0.672</td>\n",
              "      <td>32</td>\n",
              "      <td>1</td>\n",
              "    </tr>\n",
              "    <tr>\n",
              "      <th>3</th>\n",
              "      <td>1</td>\n",
              "      <td>89</td>\n",
              "      <td>66</td>\n",
              "      <td>23</td>\n",
              "      <td>94</td>\n",
              "      <td>28.1</td>\n",
              "      <td>0.167</td>\n",
              "      <td>21</td>\n",
              "      <td>0</td>\n",
              "    </tr>\n",
              "    <tr>\n",
              "      <th>4</th>\n",
              "      <td>0</td>\n",
              "      <td>137</td>\n",
              "      <td>40</td>\n",
              "      <td>35</td>\n",
              "      <td>168</td>\n",
              "      <td>43.1</td>\n",
              "      <td>2.288</td>\n",
              "      <td>33</td>\n",
              "      <td>1</td>\n",
              "    </tr>\n",
              "    <tr>\n",
              "      <th>...</th>\n",
              "      <td>...</td>\n",
              "      <td>...</td>\n",
              "      <td>...</td>\n",
              "      <td>...</td>\n",
              "      <td>...</td>\n",
              "      <td>...</td>\n",
              "      <td>...</td>\n",
              "      <td>...</td>\n",
              "      <td>...</td>\n",
              "    </tr>\n",
              "    <tr>\n",
              "      <th>763</th>\n",
              "      <td>10</td>\n",
              "      <td>101</td>\n",
              "      <td>76</td>\n",
              "      <td>48</td>\n",
              "      <td>180</td>\n",
              "      <td>32.9</td>\n",
              "      <td>0.171</td>\n",
              "      <td>63</td>\n",
              "      <td>0</td>\n",
              "    </tr>\n",
              "    <tr>\n",
              "      <th>764</th>\n",
              "      <td>2</td>\n",
              "      <td>122</td>\n",
              "      <td>70</td>\n",
              "      <td>27</td>\n",
              "      <td>0</td>\n",
              "      <td>36.8</td>\n",
              "      <td>0.340</td>\n",
              "      <td>27</td>\n",
              "      <td>0</td>\n",
              "    </tr>\n",
              "    <tr>\n",
              "      <th>765</th>\n",
              "      <td>5</td>\n",
              "      <td>121</td>\n",
              "      <td>72</td>\n",
              "      <td>23</td>\n",
              "      <td>112</td>\n",
              "      <td>26.2</td>\n",
              "      <td>0.245</td>\n",
              "      <td>30</td>\n",
              "      <td>0</td>\n",
              "    </tr>\n",
              "    <tr>\n",
              "      <th>766</th>\n",
              "      <td>1</td>\n",
              "      <td>126</td>\n",
              "      <td>60</td>\n",
              "      <td>0</td>\n",
              "      <td>0</td>\n",
              "      <td>30.1</td>\n",
              "      <td>0.349</td>\n",
              "      <td>47</td>\n",
              "      <td>1</td>\n",
              "    </tr>\n",
              "    <tr>\n",
              "      <th>767</th>\n",
              "      <td>1</td>\n",
              "      <td>93</td>\n",
              "      <td>70</td>\n",
              "      <td>31</td>\n",
              "      <td>0</td>\n",
              "      <td>30.4</td>\n",
              "      <td>0.315</td>\n",
              "      <td>23</td>\n",
              "      <td>0</td>\n",
              "    </tr>\n",
              "  </tbody>\n",
              "</table>\n",
              "<p>768 rows × 9 columns</p>\n",
              "</div>"
            ],
            "text/plain": [
              "     Number  of times pregnant  Plasma glucose  ...  Age  Class\n",
              "0                            6             148  ...   50      1\n",
              "1                            1              85  ...   31      0\n",
              "2                            8             183  ...   32      1\n",
              "3                            1              89  ...   21      0\n",
              "4                            0             137  ...   33      1\n",
              "..                         ...             ...  ...  ...    ...\n",
              "763                         10             101  ...   63      0\n",
              "764                          2             122  ...   27      0\n",
              "765                          5             121  ...   30      0\n",
              "766                          1             126  ...   47      1\n",
              "767                          1              93  ...   23      0\n",
              "\n",
              "[768 rows x 9 columns]"
            ]
          },
          "metadata": {},
          "execution_count": 1
        }
      ]
    },
    {
      "cell_type": "markdown",
      "metadata": {
        "id": "mJKQIllgowSS"
      },
      "source": [
        "## This dataset has numerical variables and we have to predict if a person has diabetes or not.The objective of the dataset is to diagnostically predict whether or not a patient has diabetes, based on certain diagnostic measurements included in the dataset.The datasets consists of several medical predictor variables and one target variable, Outcome. Predictor variables includes the number of pregnancies the patient has had, their BMI, insulin level, age, and so on."
      ]
    },
    {
      "cell_type": "code",
      "metadata": {
        "colab": {
          "base_uri": "https://localhost:8080/"
        },
        "id": "Pjoi9b0L9pVu",
        "outputId": "ca92d1ed-28b7-44df-fbed-171577e3c2fd"
      },
      "source": [
        "df.info()"
      ],
      "execution_count": 2,
      "outputs": [
        {
          "output_type": "stream",
          "name": "stdout",
          "text": [
            "<class 'pandas.core.frame.DataFrame'>\n",
            "RangeIndex: 768 entries, 0 to 767\n",
            "Data columns (total 9 columns):\n",
            " #   Column                      Non-Null Count  Dtype  \n",
            "---  ------                      --------------  -----  \n",
            " 0   Number  of times pregnant   768 non-null    int64  \n",
            " 1   Plasma glucose              768 non-null    int64  \n",
            " 2   Diastolic blood pressure    768 non-null    int64  \n",
            " 3   Triceps skinfold thickness  768 non-null    int64  \n",
            " 4   serum insulin               768 non-null    int64  \n",
            " 5   Body mass index             768 non-null    float64\n",
            " 6   Diabetes pedigree function  768 non-null    float64\n",
            " 7   Age                         768 non-null    int64  \n",
            " 8   Class                       768 non-null    int64  \n",
            "dtypes: float64(2), int64(7)\n",
            "memory usage: 54.1 KB\n"
          ]
        }
      ]
    },
    {
      "cell_type": "markdown",
      "metadata": {
        "id": "_ePO3g59pSDL"
      },
      "source": [
        ""
      ]
    },
    {
      "cell_type": "code",
      "metadata": {
        "colab": {
          "base_uri": "https://localhost:8080/"
        },
        "id": "Ovioi-Yw9ypI",
        "outputId": "d0c6e417-853d-40b3-a701-e02a91188e2d"
      },
      "source": [
        "df.isna().sum()"
      ],
      "execution_count": 3,
      "outputs": [
        {
          "output_type": "execute_result",
          "data": {
            "text/plain": [
              "Number  of times pregnant     0\n",
              "Plasma glucose                0\n",
              "Diastolic blood pressure      0\n",
              "Triceps skinfold thickness    0\n",
              "serum insulin                 0\n",
              "Body mass index               0\n",
              "Diabetes pedigree function    0\n",
              "Age                           0\n",
              "Class                         0\n",
              "dtype: int64"
            ]
          },
          "metadata": {},
          "execution_count": 3
        }
      ]
    },
    {
      "cell_type": "markdown",
      "metadata": {
        "id": "8fXFAdjDpVqC"
      },
      "source": [
        "# It looks like there are no missing values in this dataset.So, there is no need for cleaning the data"
      ]
    },
    {
      "cell_type": "code",
      "metadata": {
        "colab": {
          "base_uri": "https://localhost:8080/",
          "height": 295
        },
        "id": "E6UYwv_291wb",
        "outputId": "3144a69b-11f8-47cd-9a93-de23f6e072cf"
      },
      "source": [
        "df['Class'].value_counts().plot.barh()\n",
        "plt.title('Patient has diabetes or not')\n",
        "plt.xlabel('No Of People')\n",
        "plt.show()"
      ],
      "execution_count": 4,
      "outputs": [
        {
          "output_type": "display_data",
          "data": {
            "image/png": "[encoded data removed]",
            "text/plain": [
              "<Figure size 432x288 with 1 Axes>"
            ]
          },
          "metadata": {
            "needs_background": "light"
          }
        }
      ]
    },
    {
      "cell_type": "markdown",
      "metadata": {
        "id": "l7jk3td13zZr"
      },
      "source": [
        "# There are almost 500 people without diabetes and only around  268 have diabetes as seen from the above distribution"
      ]
    },
    {
      "cell_type": "markdown",
      "metadata": {
        "id": "JwqL6ykd4Hzm"
      },
      "source": [
        "# **Getting ready for split**"
      ]
    },
    {
      "cell_type": "code",
      "metadata": {
        "id": "cOhgMpZ_9q4a"
      },
      "source": [
        "y = df['Class']\n",
        "X = df[[x for x in df.columns if x != 'Class']]"
      ],
      "execution_count": 5,
      "outputs": []
    },
    {
      "cell_type": "markdown",
      "metadata": {
        "id": "dSzDAoet4QEv"
      },
      "source": [
        "## Splitting the dataset"
      ]
    },
    {
      "cell_type": "code",
      "metadata": {
        "id": "mmnRQY_I9yqF"
      },
      "source": [
        "from sklearn.model_selection import train_test_split\n",
        "X_train, X_test, y_train, y_test=train_test_split(X, y, test_size=0.2)"
      ],
      "execution_count": 6,
      "outputs": []
    },
    {
      "cell_type": "code",
      "metadata": {
        "id": "Mtiyu1Wp_X0P"
      },
      "source": [
        "from sklearn.pipeline import Pipeline\n",
        "from sklearn.compose import ColumnTransformer\n",
        "from sklearn.preprocessing import StandardScaler\n",
        "from sklearn.linear_model import LogisticRegression"
      ],
      "execution_count": 7,
      "outputs": []
    },
    {
      "cell_type": "markdown",
      "metadata": {
        "id": "QWSemeXI4hHW"
      },
      "source": [
        "# **Creating a base pipeline to choose the scoring metric**"
      ]
    },
    {
      "cell_type": "markdown",
      "metadata": {
        "id": "ZpeByMjH4USt"
      },
      "source": [
        "### Using StandardScaler to standardize this numerical dataset.I prefered using Ridge regression(l2) for all the pipelines."
      ]
    },
    {
      "cell_type": "code",
      "metadata": {
        "id": "efnjDxle1dpg"
      },
      "source": [
        "num_pipeline = Pipeline([('standardize_num', StandardScaler())])"
      ],
      "execution_count": 8,
      "outputs": []
    },
    {
      "cell_type": "code",
      "metadata": {
        "colab": {
          "base_uri": "https://localhost:8080/"
        },
        "id": "yyctrytk-N_R",
        "outputId": "e436c428-d097-4f5c-b2cd-b799dd3df3e8"
      },
      "source": [
        "num_vars = list(df.columns)[0:-1]\n",
        "processing_pipeline = ColumnTransformer(transformers=[('proc_numeric', num_pipeline, num_vars)])\n",
        "processing_pipeline"
      ],
      "execution_count": 9,
      "outputs": [
        {
          "output_type": "execute_result",
          "data": {
            "text/plain": [
              "ColumnTransformer(n_jobs=None, remainder='drop', sparse_threshold=0.3,\n",
              "                  transformer_weights=None,\n",
              "                  transformers=[('proc_numeric',\n",
              "                                 Pipeline(memory=None,\n",
              "                                          steps=[('standardize_num',\n",
              "                                                  StandardScaler(copy=True,\n",
              "                                                                 with_mean=True,\n",
              "                                                                 with_std=True))],\n",
              "                                          verbose=False),\n",
              "                                 ['Number  of times pregnant', 'Plasma glucose',\n",
              "                                  'Diastolic blood pressure',\n",
              "                                  'Triceps skinfold thickness', 'serum insulin',\n",
              "                                  'Body mass index',\n",
              "                                  'Diabetes pedigree function', 'Age'])],\n",
              "                  verbose=False)"
            ]
          },
          "metadata": {},
          "execution_count": 9
        }
      ]
    },
    {
      "cell_type": "code",
      "metadata": {
        "id": "rMXpDFfABNCB"
      },
      "source": [
        "modeling_pipeline = Pipeline([('data_processing', processing_pipeline),('logreg', LogisticRegression('l2'))])"
      ],
      "execution_count": 10,
      "outputs": []
    },
    {
      "cell_type": "code",
      "metadata": {
        "id": "XxoiNYVuAjtN"
      },
      "source": [
        "m=modeling_pipeline.fit(X_train, y_train)"
      ],
      "execution_count": 11,
      "outputs": []
    },
    {
      "cell_type": "code",
      "metadata": {
        "colab": {
          "base_uri": "https://localhost:8080/"
        },
        "id": "La3vFMuSAlTx",
        "outputId": "281e71b6-0a3e-4d4a-f514-3a520437b104"
      },
      "source": [
        "y_hat = m.predict(X_test)\n",
        "from sklearn.metrics import classification_report\n",
        "print(classification_report(y_test, y_hat))"
      ],
      "execution_count": 12,
      "outputs": [
        {
          "output_type": "stream",
          "name": "stdout",
          "text": [
            "              precision    recall  f1-score   support\n",
            "\n",
            "           0       0.78      0.84      0.81       100\n",
            "           1       0.65      0.56      0.60        54\n",
            "\n",
            "    accuracy                           0.74       154\n",
            "   macro avg       0.71      0.70      0.70       154\n",
            "weighted avg       0.73      0.74      0.73       154\n",
            "\n"
          ]
        }
      ]
    },
    {
      "cell_type": "code",
      "metadata": {
        "colab": {
          "base_uri": "https://localhost:8080/"
        },
        "id": "XrNOHWkqa_EG",
        "outputId": "414b14ad-3e85-4b45-9c32-80cde5f128c9"
      },
      "source": [
        "from sklearn.metrics import confusion_matrix\n",
        "print(confusion_matrix(y_test, y_hat))"
      ],
      "execution_count": 13,
      "outputs": [
        {
          "output_type": "stream",
          "name": "stdout",
          "text": [
            "[[84 16]\n",
            " [24 30]]\n"
          ]
        }
      ]
    },
    {
      "cell_type": "code",
      "metadata": {
        "id": "83mz4YVfbND_"
      },
      "source": [
        "accuracy_base_model=(confusion_matrix(y_test, y_hat)[0][0]+confusion_matrix(y_test, y_hat)[1][1])/np.sum(confusion_matrix(y_test, y_hat))\n",
        "f1_base=confusion_matrix(y_test, y_hat)[0][0]/(confusion_matrix(y_test, y_hat)[0][0]+0.5*(confusion_matrix(y_test, y_hat)[0][1]+confusion_matrix(y_test, y_hat)[1][0]))\n",
        "precision_base=confusion_matrix(y_test, y_hat)[0][0]/(confusion_matrix(y_test, y_hat)[0][0]+confusion_matrix(y_test, y_hat)[0][1])"
      ],
      "execution_count": null,
      "outputs": []
    },
    {
      "cell_type": "code",
      "metadata": {
        "id": "Jw8PuexKBx0g"
      },
      "source": [
        "# m.predict_proba(X)[:, 1]"
      ],
      "execution_count": 15,
      "outputs": []
    },
    {
      "cell_type": "code",
      "metadata": {
        "id": "tmwtMhrFCg41"
      },
      "source": [
        "from sklearn.metrics import roc_curve\n",
        "fpr_test, tpr_test,a=roc_curve(y_test, m.predict_proba(X_test)[:, 1])\n",
        "fpr_train, tpr_train,b=roc_curve(y_train, m.predict_proba(X_train)[:, 1])"
      ],
      "execution_count": 16,
      "outputs": []
    },
    {
      "cell_type": "code",
      "metadata": {
        "colab": {
          "base_uri": "https://localhost:8080/",
          "height": 278
        },
        "id": "rMhcRltzGUnj",
        "outputId": "d3bedee0-34e0-439a-f8d7-614f9d070371"
      },
      "source": [
        "plt.plot(fpr_test, tpr_test,'-r')\n",
        "plt.plot(fpr_train, tpr_train,'-b')\n",
        "plt.xlabel('False Positive Rate')\n",
        "plt.ylabel('True Positive Rate')\n",
        "plt.legend(['Test','Training'])\n",
        "plt.plot([0, 1], [0, 1], color='black', linestyle='--')\n",
        "plt.show()"
      ],
      "execution_count": 17,
      "outputs": [
        {
          "output_type": "display_data",
          "data": {
            "image/png": "[encoded data removed]",
            "text/plain": [
              "<Figure size 432x288 with 1 Axes>"
            ]
          },
          "metadata": {
            "needs_background": "light"
          }
        }
      ]
    },
    {
      "cell_type": "code",
      "metadata": {
        "colab": {
          "base_uri": "https://localhost:8080/"
        },
        "id": "4XuDHG0YG5Iw",
        "outputId": "52c396bf-a835-48fb-ab79-26eb4ceca577"
      },
      "source": [
        "from sklearn.metrics import roc_auc_score\n",
        "roc_auc_score(y_test,  m.predict_proba(X_test)[:, 1])"
      ],
      "execution_count": 18,
      "outputs": [
        {
          "output_type": "execute_result",
          "data": {
            "text/plain": [
              "0.8144444444444444"
            ]
          },
          "metadata": {},
          "execution_count": 18
        }
      ]
    },
    {
      "cell_type": "markdown",
      "metadata": {
        "id": "gJjcSR6zuzhx"
      },
      "source": [
        "# **Pick a metric you are going to use to select the model and justify your choice**\n",
        "## As the ROC curve checks the trade off between FP and TP, I chose ROC area under the curve as the scoring metric checks true positive, false positive rate in the graph and adjusts accordingly."
      ]
    },
    {
      "cell_type": "markdown",
      "metadata": {
        "id": "PN_aEofL5GSz"
      },
      "source": [
        "# **Use the above combined pipeline to run a Logistic Regression model with grid search cross-validation using 10 folds. Search 5 different regularization strengths and 2 solvers. What is the best model? How does it perform on the test set?**"
      ]
    },
    {
      "cell_type": "code",
      "metadata": {
        "id": "qmrHBjGTQb7k"
      },
      "source": [
        "def solver_reg(a):\n",
        "  b=Pipeline([('data_processing', processing_pipeline),('logreg', LogisticRegression(penalty='l2',solver=a))])\n",
        "  return b"
      ],
      "execution_count": 19,
      "outputs": []
    },
    {
      "cell_type": "code",
      "metadata": {
        "id": "gAcXm9gxrZrr"
      },
      "source": [
        "# import sklearn\n",
        "# sorted(sklearn.metrics.SCORERS.keys())"
      ],
      "execution_count": 21,
      "outputs": []
    },
    {
      "cell_type": "markdown",
      "metadata": {
        "id": "14FEUHY46B_T"
      },
      "source": [
        "##**Using 'liblinear' as solver**"
      ]
    },
    {
      "cell_type": "code",
      "metadata": {
        "id": "pGoxvHvDU8Sl"
      },
      "source": [
        "gcv_results = GridSearchCV(estimator=solver_reg('liblinear'), param_grid=params, scoring='roc_auc',cv=10,refit=True)\n",
        "gcv_results=gcv_results.fit(X_train, y_train)"
      ],
      "execution_count": 28,
      "outputs": []
    },
    {
      "cell_type": "code",
      "metadata": {
        "colab": {
          "base_uri": "https://localhost:8080/"
        },
        "id": "Ms50F0G0VVdl",
        "outputId": "ea1d5225-b669-4e25-c408-3ae83015acde"
      },
      "source": [
        "gcv_results.best_score_"
      ],
      "execution_count": 29,
      "outputs": [
        {
          "output_type": "execute_result",
          "data": {
            "text/plain": [
              "0.8390909090909091"
            ]
          },
          "metadata": {},
          "execution_count": 29
        }
      ]
    },
    {
      "cell_type": "markdown",
      "metadata": {
        "id": "DZbHyZig6JxL"
      },
      "source": [
        "## **ROC has increased from 81 to 83.9**"
      ]
    },
    {
      "cell_type": "code",
      "metadata": {
        "colab": {
          "base_uri": "https://localhost:8080/"
        },
        "id": "ELqnYRHsVXd6",
        "outputId": "52e0dc70-c06a-461f-8b6e-433577fc3fd1"
      },
      "source": [
        "gcv_results.best_params_"
      ],
      "execution_count": 30,
      "outputs": [
        {
          "output_type": "execute_result",
          "data": {
            "text/plain": [
              "{'logreg__C': 0.1, 'logreg__class_weight': 'balanced'}"
            ]
          },
          "metadata": {},
          "execution_count": 30
        }
      ]
    },
    {
      "cell_type": "code",
      "metadata": {
        "colab": {
          "base_uri": "https://localhost:8080/"
        },
        "id": "mrVytK17VasB",
        "outputId": "4ff642bd-d272-4891-9b97-3891902ab017"
      },
      "source": [
        "gcv_results.best_estimator_"
      ],
      "execution_count": 31,
      "outputs": [
        {
          "output_type": "execute_result",
          "data": {
            "text/plain": [
              "Pipeline(memory=None,\n",
              "         steps=[('data_processing',\n",
              "                 ColumnTransformer(n_jobs=None, remainder='drop',\n",
              "                                   sparse_threshold=0.3,\n",
              "                                   transformer_weights=None,\n",
              "                                   transformers=[('proc_numeric',\n",
              "                                                  Pipeline(memory=None,\n",
              "                                                           steps=[('standardize_num',\n",
              "                                                                   StandardScaler(copy=True,\n",
              "                                                                                  with_mean=True,\n",
              "                                                                                  with_std=True))],\n",
              "                                                           verbose=False),\n",
              "                                                  ['Number  of times pregnant',\n",
              "                                                   'Plasma glucose',\n",
              "                                                   'Diastolic blood press...\n",
              "                                                   'serum insulin',\n",
              "                                                   'Body mass index',\n",
              "                                                   'Diabetes pedigree function',\n",
              "                                                   'Age'])],\n",
              "                                   verbose=False)),\n",
              "                ('logreg',\n",
              "                 LogisticRegression(C=0.1, class_weight='balanced', dual=False,\n",
              "                                    fit_intercept=True, intercept_scaling=1,\n",
              "                                    l1_ratio=None, max_iter=100,\n",
              "                                    multi_class='auto', n_jobs=None,\n",
              "                                    penalty='l2', random_state=None,\n",
              "                                    solver='liblinear', tol=0.0001, verbose=0,\n",
              "                                    warm_start=False))],\n",
              "         verbose=False)"
            ]
          },
          "metadata": {},
          "execution_count": 31
        }
      ]
    },
    {
      "cell_type": "markdown",
      "metadata": {
        "id": "RcMhp3r66VgG"
      },
      "source": [
        "# the above pipeline seems to be the best model for 'liblinear' at regularization strength of 0.1"
      ]
    },
    {
      "cell_type": "code",
      "metadata": {
        "colab": {
          "base_uri": "https://localhost:8080/"
        },
        "id": "aTbHahfMVchr",
        "outputId": "fcb33713-4246-431a-ce32-7d8223ad4f13"
      },
      "source": [
        "print(classification_report(y_test, y_testp))"
      ],
      "execution_count": 32,
      "outputs": [
        {
          "output_type": "stream",
          "name": "stdout",
          "text": [
            "              precision    recall  f1-score   support\n",
            "\n",
            "           0       0.82      0.79      0.81       100\n",
            "           1       0.64      0.69      0.66        54\n",
            "\n",
            "    accuracy                           0.75       154\n",
            "   macro avg       0.73      0.74      0.73       154\n",
            "weighted avg       0.76      0.75      0.76       154\n",
            "\n"
          ]
        }
      ]
    },
    {
      "cell_type": "code",
      "metadata": {
        "colab": {
          "base_uri": "https://localhost:8080/",
          "height": 278
        },
        "id": "q4-IfOtgLtic",
        "outputId": "d8f87dbb-0f46-4939-a975-a28171a2acb8"
      },
      "source": [
        "fpr_test, tpr_test,h=roc_curve(y_test, gcv_results.predict_proba(X_test)[:, 1])\n",
        "fpr_train, tpr_train,l=roc_curve(y_train, gcv_results.predict_proba(X_train)[:, 1])\n",
        "plt.plot(fpr_test, tpr_test,'-r')\n",
        "plt.plot(fpr_train, tpr_train,'-b')\n",
        "plt.xlabel('False Positive Rate')\n",
        "plt.ylabel('True Positive Rate')\n",
        "plt.legend(['Test','Training'])\n",
        "plt.plot([0, 1], [0, 1], color='black', linestyle='--')\n",
        "plt.show()"
      ],
      "execution_count": 33,
      "outputs": [
        {
          "output_type": "display_data",
          "data": {
            "image/png": "[encoded data removed]",
            "text/plain": [
              "<Figure size 432x288 with 1 Axes>"
            ]
          },
          "metadata": {
            "needs_background": "light"
          }
        }
      ]
    },
    {
      "cell_type": "markdown",
      "metadata": {
        "id": "32gm-XF33JDP"
      },
      "source": [
        "# Liblinear solver automatically selects the parameters taking its predecessor predicting output in our conidtion with the combination of AUC_Roc curve it checks the postive rate of the graph and then proceeds further using the Liblinear solver and got the maximum output."
      ]
    },
    {
      "cell_type": "markdown",
      "metadata": {
        "id": "hLfduqa06jFG"
      },
      "source": [
        "# **Using the 'sag' solver**"
      ]
    },
    {
      "cell_type": "code",
      "metadata": {
        "id": "UC_vZBwAJroW"
      },
      "source": [
        "from sklearn.model_selection import GridSearchCV\n",
        "params = [{'logreg__class_weight': [None, 'balanced'],'logreg__C': [0.01,0.1,1,10,100]}]\n",
        "gcv_results = GridSearchCV(estimator=solver_reg('sag'), param_grid=params, scoring='roc_auc',cv=10,refit=True)\n",
        "gcv_results=gcv_results.fit(X_train, y_train)"
      ],
      "execution_count": 20,
      "outputs": []
    },
    {
      "cell_type": "code",
      "metadata": {
        "colab": {
          "base_uri": "https://localhost:8080/"
        },
        "id": "yI0oxrn2TmeF",
        "outputId": "13ec15e3-2b7b-4200-c490-47d89ccc5297"
      },
      "source": [
        "gcv_results.best_score_"
      ],
      "execution_count": 22,
      "outputs": [
        {
          "output_type": "execute_result",
          "data": {
            "text/plain": [
              "0.8388636363636361"
            ]
          },
          "metadata": {},
          "execution_count": 22
        }
      ]
    },
    {
      "cell_type": "markdown",
      "metadata": {
        "id": "8i9B9-uJ6pln"
      },
      "source": [
        "# ROC has increased from 81 to 83.88"
      ]
    },
    {
      "cell_type": "code",
      "metadata": {
        "colab": {
          "base_uri": "https://localhost:8080/"
        },
        "id": "Dq3JKqOXTobh",
        "outputId": "87b6b5d7-8780-46a3-c2d7-323a8078b004"
      },
      "source": [
        "gcv_results.best_params_"
      ],
      "execution_count": 23,
      "outputs": [
        {
          "output_type": "execute_result",
          "data": {
            "text/plain": [
              "{'logreg__C': 0.1, 'logreg__class_weight': 'balanced'}"
            ]
          },
          "metadata": {},
          "execution_count": 23
        }
      ]
    },
    {
      "cell_type": "code",
      "metadata": {
        "colab": {
          "base_uri": "https://localhost:8080/"
        },
        "id": "6ODILd9VTrkR",
        "outputId": "b0cbe0bf-a3e9-4570-e8f7-5cd4d54510bd"
      },
      "source": [
        "gcv_results.best_estimator_"
      ],
      "execution_count": 24,
      "outputs": [
        {
          "output_type": "execute_result",
          "data": {
            "text/plain": [
              "Pipeline(memory=None,\n",
              "         steps=[('data_processing',\n",
              "                 ColumnTransformer(n_jobs=None, remainder='drop',\n",
              "                                   sparse_threshold=0.3,\n",
              "                                   transformer_weights=None,\n",
              "                                   transformers=[('proc_numeric',\n",
              "                                                  Pipeline(memory=None,\n",
              "                                                           steps=[('standardize_num',\n",
              "                                                                   StandardScaler(copy=True,\n",
              "                                                                                  with_mean=True,\n",
              "                                                                                  with_std=True))],\n",
              "                                                           verbose=False),\n",
              "                                                  ['Number  of times pregnant',\n",
              "                                                   'Plasma glucose',\n",
              "                                                   'Diastolic blood press...\n",
              "                                                   'Triceps skinfold thickness',\n",
              "                                                   'serum insulin',\n",
              "                                                   'Body mass index',\n",
              "                                                   'Diabetes pedigree function',\n",
              "                                                   'Age'])],\n",
              "                                   verbose=False)),\n",
              "                ('logreg',\n",
              "                 LogisticRegression(C=0.1, class_weight='balanced', dual=False,\n",
              "                                    fit_intercept=True, intercept_scaling=1,\n",
              "                                    l1_ratio=None, max_iter=100,\n",
              "                                    multi_class='auto', n_jobs=None,\n",
              "                                    penalty='l2', random_state=None,\n",
              "                                    solver='sag', tol=0.0001, verbose=0,\n",
              "                                    warm_start=False))],\n",
              "         verbose=False)"
            ]
          },
          "metadata": {},
          "execution_count": 24
        }
      ]
    },
    {
      "cell_type": "markdown",
      "metadata": {
        "id": "YyF4Ha6q66-b"
      },
      "source": [
        "# the above model seems to be best model for 'sag' solver with l2 regularization at strength of 0.1"
      ]
    },
    {
      "cell_type": "code",
      "metadata": {
        "id": "BkYp-D7mTuWN"
      },
      "source": [
        "y_testp = gcv_results.predict(X_test)"
      ],
      "execution_count": 25,
      "outputs": []
    },
    {
      "cell_type": "code",
      "metadata": {
        "colab": {
          "base_uri": "https://localhost:8080/"
        },
        "id": "dIZUIKyEU5pE",
        "outputId": "3cdec1de-82f7-4404-f004-fd2ad02c80e6"
      },
      "source": [
        "print(classification_report(y_test, y_testp))"
      ],
      "execution_count": 26,
      "outputs": [
        {
          "output_type": "stream",
          "name": "stdout",
          "text": [
            "              precision    recall  f1-score   support\n",
            "\n",
            "           0       0.82      0.79      0.81       100\n",
            "           1       0.64      0.69      0.66        54\n",
            "\n",
            "    accuracy                           0.75       154\n",
            "   macro avg       0.73      0.74      0.73       154\n",
            "weighted avg       0.76      0.75      0.76       154\n",
            "\n"
          ]
        }
      ]
    },
    {
      "cell_type": "code",
      "metadata": {
        "colab": {
          "base_uri": "https://localhost:8080/",
          "height": 278
        },
        "id": "VnzV0VH2M508",
        "outputId": "c2fdf719-2c86-451e-8e5e-207969e01fb0"
      },
      "source": [
        "fpr_test, tpr_test,f=roc_curve(y_test, gcv_results.predict_proba(X_test)[:, 1])\n",
        "fpr_train, tpr_train,g=roc_curve(y_train, gcv_results.predict_proba(X_train)[:, 1])\n",
        "plt.plot(fpr_test, tpr_test,'-r')\n",
        "plt.plot(fpr_train, tpr_train,'-b')\n",
        "plt.xlabel('False Positive Rate')\n",
        "plt.ylabel('True Positive Rate')\n",
        "plt.legend(['Test','Training'])\n",
        "plt.plot([0, 1], [0, 1], color='navy', linestyle='--')\n",
        "plt.show()"
      ],
      "execution_count": 27,
      "outputs": [
        {
          "output_type": "display_data",
          "data": {
            "image/png": "[encoded data removed]",
            "text/plain": [
              "<Figure size 432x288 with 1 Axes>"
            ]
          },
          "metadata": {
            "needs_background": "light"
          }
        }
      ]
    },
    {
      "cell_type": "markdown",
      "metadata": {
        "id": "Im8jMbDX14tJ"
      },
      "source": [
        "# Stocastic Average gradient solver is mainly used on large dataset which takes the loss function to proceed for its further prediction. This being small dataset when performed sag with 'roc_auc' as metric has got improvement over the base pipeline,but not as good as the liblinear solver."
      ]
    }
  ]
}